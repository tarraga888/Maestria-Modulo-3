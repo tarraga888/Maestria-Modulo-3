{
 "cells": [
  {
   "cell_type": "code",
   "execution_count": 10,
   "id": "b73a58ef",
   "metadata": {},
   "outputs": [
    {
     "name": "stdout",
     "output_type": "stream",
     "text": [
      "5.7654\n"
     ]
    }
   ],
   "source": [
    "x = round(5.76543,4) # Redondeo a 4 decimales\n",
    "print(x)"
   ]
  },
  {
   "cell_type": "code",
   "execution_count": 21,
   "id": "3e07eb8f",
   "metadata": {},
   "outputs": [],
   "source": [
    "from math import log # Para activar la funcion de logaritmo math.log(x,base)\n",
    "#Si se deja log(x) calcula logaritmo natural\n",
    "def funcio(x):\n",
    "    return x*log(x,10)-1"
   ]
  },
  {
   "cell_type": "code",
   "execution_count": 24,
   "id": "763f3ebc",
   "metadata": {},
   "outputs": [
    {
     "name": "stdout",
     "output_type": "stream",
     "text": [
      "fa -1.0\n",
      "fb 0.43136\n"
     ]
    }
   ],
   "source": [
    "#Evaluar en 1 ,3\n",
    "fa=funcio(1)\n",
    "fa=round(fa,5)\n",
    "print('fa',fa)\n",
    "fb=funcio(3)\n",
    "fb=round(fb,5)\n",
    "print('fb',fb)"
   ]
  },
  {
   "cell_type": "code",
   "execution_count": null,
   "id": "9d733672",
   "metadata": {},
   "outputs": [],
   "source": []
  }
 ],
 "metadata": {
  "kernelspec": {
   "display_name": "Python 3 (ipykernel)",
   "language": "python",
   "name": "python3"
  },
  "language_info": {
   "codemirror_mode": {
    "name": "ipython",
    "version": 3
   },
   "file_extension": ".py",
   "mimetype": "text/x-python",
   "name": "python",
   "nbconvert_exporter": "python",
   "pygments_lexer": "ipython3",
   "version": "3.9.7"
  }
 },
 "nbformat": 4,
 "nbformat_minor": 5
}
