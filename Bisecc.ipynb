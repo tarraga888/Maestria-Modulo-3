{
 "cells": [
  {
   "cell_type": "code",
   "execution_count": 1,
   "id": "b73a58ef",
   "metadata": {},
   "outputs": [
    {
     "name": "stdout",
     "output_type": "stream",
     "text": [
      "5.7654\n"
     ]
    }
   ],
   "source": [
    "x = round(5.76543,4) # Redondeo a 4 decimales\n",
    "print(x)"
   ]
  },
  {
   "cell_type": "code",
   "execution_count": 2,
   "id": "3e07eb8f",
   "metadata": {},
   "outputs": [],
   "source": [
    "from math import log # Para activar la funcion de logaritmo math.log(x,base)\n",
    "#Si se deja log(x) calcula logaritmo natural\n",
    "def funcion(x):\n",
    "    return x*log(x,10)-1"
   ]
  },
  {
   "cell_type": "code",
   "execution_count": 24,
   "id": "763f3ebc",
   "metadata": {},
   "outputs": [
    {
     "name": "stdout",
     "output_type": "stream",
     "text": [
      "error: 2\n"
     ]
    }
   ],
   "source": [
    "#Evaluar en 1 ,3\n",
    "a=1\n",
    "b=3\n",
    "error=abs(b-a)\n",
    "n=1\n",
    "print('error:',error)"
   ]
  },
  {
   "cell_type": "code",
   "execution_count": 25,
   "id": "9d733672",
   "metadata": {},
   "outputs": [
    {
     "name": "stdout",
     "output_type": "stream",
     "text": [
      "Iteraccion := 1\n",
      "a:= 1\n",
      "b:= 3\n",
      "M:= -1.0\n",
      "x: 2.0\n",
      "fx:= -0.3979400086720377\n",
      "error: 1.0\n",
      "------------------\n",
      "Iteraccion := 2\n",
      "a:= 2.0\n",
      "b:= 3\n",
      "M:= -0.3979400086720377\n",
      "x: 2.5\n",
      "fx:= -0.005149978319906046\n",
      "error: 0.5\n",
      "------------------\n",
      "Iteraccion := 3\n",
      "a:= 2.5\n",
      "b:= 3\n",
      "M:= -0.005149978319906046\n",
      "x: 2.75\n",
      "fx:= 0.20816490803322218\n",
      "error: 0.25\n",
      "------------------\n",
      "Iteraccion := 4\n",
      "a:= 2.5\n",
      "b:= 2.75\n",
      "M:= -0.005149978319906046\n",
      "x: 2.625\n",
      "fx:= 0.10021443282268616\n",
      "error: 0.125\n",
      "------------------\n",
      "Iteraccion := 5\n",
      "a:= 2.5\n",
      "b:= 2.625\n",
      "M:= -0.005149978319906046\n",
      "x: 2.5625\n",
      "fx:= 0.047201177288514806\n",
      "error: 0.0625\n",
      "------------------\n",
      "Iteraccion := 6\n",
      "a:= 2.5\n",
      "b:= 2.5625\n",
      "M:= -0.005149978319906046\n",
      "x: 2.53125\n",
      "fx:= 0.020941821414320216\n",
      "error: 0.03125\n",
      "------------------\n",
      "Iteraccion := 7\n",
      "a:= 2.5\n",
      "b:= 2.53125\n",
      "M:= -0.005149978319906046\n",
      "x: 2.515625\n",
      "fx:= 0.007874847339405688\n",
      "error: 0.015625\n",
      "------------------\n",
      "Iteraccion := 8\n",
      "a:= 2.5\n",
      "b:= 2.515625\n",
      "M:= -0.005149978319906046\n",
      "x: 2.5078125\n",
      "fx:= 0.0013571495702981995\n",
      "error: 0.0078125\n",
      "------------------\n",
      "Iteraccion := 9\n",
      "a:= 2.5\n",
      "b:= 2.5078125\n",
      "M:= -0.005149978319906046\n",
      "x: 2.50390625\n",
      "fx:= -0.0018977376692719261\n",
      "error: 0.00390625\n",
      "------------------\n",
      "Iteraccion := 10\n",
      "a:= 2.50390625\n",
      "b:= 2.5078125\n",
      "M:= -0.0018977376692719261\n",
      "x: 2.505859375\n",
      "fx:= -0.0002706246151515934\n",
      "error: 0.001953125\n",
      "------------------\n",
      "Iteraccion := 11\n",
      "a:= 2.505859375\n",
      "b:= 2.5078125\n",
      "M:= -0.0002706246151515934\n",
      "x: 2.5068359375\n",
      "fx:= 0.0005431798683572797\n",
      "error: 0.0009765625\n",
      "------------------\n",
      "Iteraccion := 12\n",
      "a:= 2.505859375\n",
      "b:= 2.5068359375\n",
      "M:= -0.0002706246151515934\n",
      "x: 2.50634765625\n",
      "fx:= 0.00013625697027586092\n",
      "error: 0.00048828125\n",
      "------------------\n",
      "Iteraccion := 13\n",
      "a:= 2.505859375\n",
      "b:= 2.50634765625\n",
      "M:= -0.0002706246151515934\n",
      "x: 2.506103515625\n",
      "fx:= -6.718898702284815e-05\n",
      "error: 0.000244140625\n",
      "------------------\n",
      "Iteraccion := 14\n",
      "a:= 2.506103515625\n",
      "b:= 2.50634765625\n",
      "M:= -6.718898702284815e-05\n",
      "x: 2.5062255859375\n",
      "fx:= 3.453270054309954e-05\n",
      "error: 0.0001220703125\n",
      "------------------\n",
      "Iteraccion := 15\n",
      "a:= 2.506103515625\n",
      "b:= 2.5062255859375\n",
      "M:= -6.718898702284815e-05\n",
      "x: 2.50616455078125\n",
      "fx:= -1.6328466018511456e-05\n",
      "error: 6.103515625e-05\n",
      "------------------\n"
     ]
    }
   ],
   "source": [
    "while(error>0.0001):\n",
    "        print('Iteraccion :=' ,n)\n",
    "        print('a:=',a) \n",
    "        print('b:=',b) \n",
    "        fa=funcion(a)\n",
    "        M=fa             #Paso 4 \n",
    "        print('M:=',M)\n",
    "        x = (a+b)/2      #Paso 5 \n",
    "        print('x:',x)\n",
    "        fx=funcion(x)\n",
    "        print('fx:=',fx)\n",
    "        if fa*fx > 0 :\n",
    "            a=x\n",
    "        else:\n",
    "            b=x    \n",
    "        error=abs(b-a)\n",
    "        print('error:',error)\n",
    "        n=n+1\n",
    "        print('------------------')   "
   ]
  },
  {
   "cell_type": "code",
   "execution_count": 26,
   "id": "9a04d170",
   "metadata": {},
   "outputs": [
    {
     "name": "stdout",
     "output_type": "stream",
     "text": [
      "-1.6328466018511456e-05\n"
     ]
    }
   ],
   "source": [
    "ft=funcion(2.50616455078125)\n",
    "print(ft)\n"
   ]
  },
  {
   "cell_type": "code",
   "execution_count": null,
   "id": "59b1057b",
   "metadata": {},
   "outputs": [],
   "source": []
  }
 ],
 "metadata": {
  "kernelspec": {
   "display_name": "Python 3 (ipykernel)",
   "language": "python",
   "name": "python3"
  },
  "language_info": {
   "codemirror_mode": {
    "name": "ipython",
    "version": 3
   },
   "file_extension": ".py",
   "mimetype": "text/x-python",
   "name": "python",
   "nbconvert_exporter": "python",
   "pygments_lexer": "ipython3",
   "version": "3.9.7"
  }
 },
 "nbformat": 4,
 "nbformat_minor": 5
}
