{
 "cells": [
  {
   "cell_type": "markdown",
   "id": "4a4acdc2",
   "metadata": {},
   "source": [
    "# Lista 1 : Edgar Daniel Tarraga Torrez\n",
    "## 1.- Convierta los siguientes números decimales en su forma binaria:"
   ]
  },
  {
   "cell_type": "markdown",
   "id": "7fcb6852",
   "metadata": {},
   "source": [
    "### a) x=37\n",
    "### Caso enteros binarios\n",
    "Pra encontrar un numero n del sitemas decimal a u istema d ebase b, se divide el numeor n entre la base by se r4gistra el cociente ci y el residuo ri"
   ]
  },
  {
   "cell_type": "code",
   "execution_count": 84,
   "id": "2805dd0b",
   "metadata": {},
   "outputs": [
    {
     "name": "stdout",
     "output_type": "stream",
     "text": [
      "Iteraccion := 1\n",
      "37 := 2* 18 + 1\n",
      "Digito encontrado( 1 ):= 1\n",
      "------------------\n",
      "Iteraccion := 2\n",
      "18 := 2* 9 + 0\n",
      "Digito encontrado( 2 ):= 0\n",
      "------------------\n",
      "Iteraccion := 3\n",
      "9 := 2* 4 + 1\n",
      "Digito encontrado( 3 ):= 1\n",
      "------------------\n",
      "Iteraccion := 4\n",
      "4 := 2* 2 + 0\n",
      "Digito encontrado( 4 ):= 0\n",
      "------------------\n",
      "Iteraccion := 5\n",
      "2 := 2* 1 + 0\n",
      "Digito encontrado( 5 ):= 0\n",
      "------------------\n",
      "Iteraccion := 6\n",
      "1 := 2* 0 + 1\n",
      "Digito encontrado( 6 ):= 1\n",
      "------------------\n",
      "NumeroBinario:=  [1, 0, 0, 1, 0, 1]\n"
     ]
    }
   ],
   "source": [
    "x=37\n",
    "aux=x\n",
    "n=1\n",
    "NumeroBinario = [] # la lista para guardar los módulos\n",
    "while(aux>=1):\n",
    "        print('Iteraccion :=' ,n)\n",
    "        cociente = aux // 2\n",
    "        residuo= aux % 2\n",
    "        print(aux,':= 2*',cociente,'+',residuo)\n",
    "        if residuo>= 1 :\n",
    "            digito=1\n",
    "        else:\n",
    "            digito=0   \n",
    "        aux=cociente\n",
    "        NumeroBinario.append(digito)\n",
    "        print('Digito encontrado(',n,'):=',digito)\n",
    "        print('------------------')\n",
    "        n=n+1\n",
    "NumeroBinario = NumeroBinario[::-1]\n",
    "print('NumeroBinario:= ',NumeroBinario)        "
   ]
  },
  {
   "cell_type": "markdown",
   "id": "d4af165d",
   "metadata": {},
   "source": [
    "### b) y=0.1217\n",
    "### Caso Decimales binarios"
   ]
  },
  {
   "cell_type": "code",
   "execution_count": 85,
   "id": "d138113c",
   "metadata": {},
   "outputs": [],
   "source": [
    "y=0.1217"
   ]
  },
  {
   "cell_type": "code",
   "execution_count": 86,
   "id": "36c85685",
   "metadata": {},
   "outputs": [
    {
     "name": "stdout",
     "output_type": "stream",
     "text": [
      "ef:= entero+fraccionario\n",
      "ef:=  0.1217\n",
      "ei:= entero i\n",
      "fi:= fraccion i\n",
      "------------------\n",
      "Iteraccion := 1\n",
      "ef:= 0.2434\n",
      "ei:= 0\n",
      "fi:= 0.2434\n",
      "Digito encontrado:= 0\n",
      "NumeroBinario:=  [0, 0]\n",
      "------------------\n",
      "Iteraccion := 2\n",
      "ef:= 0.4868\n",
      "ei:= 0\n",
      "fi:= 0.4868\n",
      "Digito encontrado:= 0\n",
      "NumeroBinario:=  [0, 0, 0]\n",
      "------------------\n",
      "Iteraccion := 3\n",
      "ef:= 0.9736\n",
      "ei:= 0\n",
      "fi:= 0.9736\n",
      "Digito encontrado:= 0\n",
      "NumeroBinario:=  [0, 0, 0, 0]\n",
      "------------------\n",
      "Iteraccion := 4\n",
      "ef:= 1.9472\n",
      "ei:= 1\n",
      "fi:= 0.9472\n",
      "Digito encontrado:= 1\n",
      "NumeroBinario:=  [0, 0, 0, 0, 1]\n",
      "------------------\n",
      "Iteraccion := 5\n",
      "ef:= 1.8944\n",
      "ei:= 1\n",
      "fi:= 0.8944000000000001\n",
      "Digito encontrado:= 1\n",
      "NumeroBinario:=  [0, 0, 0, 0, 1, 1]\n",
      "------------------\n",
      "Iteraccion := 6\n",
      "ef:= 1.7888000000000002\n",
      "ei:= 1\n",
      "fi:= 0.7888000000000002\n",
      "Digito encontrado:= 1\n",
      "NumeroBinario:=  [0, 0, 0, 0, 1, 1, 1]\n",
      "------------------\n",
      "Iteraccion := 7\n",
      "ef:= 1.5776000000000003\n",
      "ei:= 1\n",
      "fi:= 0.5776000000000003\n",
      "Digito encontrado:= 1\n",
      "NumeroBinario:=  [0, 0, 0, 0, 1, 1, 1, 1]\n",
      "------------------\n",
      "Iteraccion := 8\n",
      "ef:= 1.1552000000000007\n",
      "ei:= 1\n",
      "fi:= 0.15520000000000067\n",
      "Digito encontrado:= 1\n",
      "NumeroBinario:=  [0, 0, 0, 0, 1, 1, 1, 1, 1]\n",
      "------------------\n",
      "Iteraccion := 9\n",
      "ef:= 0.31040000000000134\n",
      "ei:= 0\n",
      "fi:= 0.31040000000000134\n",
      "Digito encontrado:= 0\n",
      "NumeroBinario:=  [0, 0, 0, 0, 1, 1, 1, 1, 1, 0]\n",
      "------------------\n",
      "Iteraccion := 10\n",
      "ef:= 0.6208000000000027\n",
      "ei:= 0\n",
      "fi:= 0.6208000000000027\n",
      "Digito encontrado:= 0\n",
      "NumeroBinario:=  [0, 0, 0, 0, 1, 1, 1, 1, 1, 0, 0]\n",
      "------------------\n"
     ]
    }
   ],
   "source": [
    "aux=y\n",
    "n=1\n",
    "ndigitos=10 # numero de digitos binarios \n",
    "NumeroBinario = [0] # la lista para guardar los numeros\n",
    "print('ef:= entero+fraccionario')\n",
    "print('ef:= ',aux)\n",
    "print('ei:= entero i')\n",
    "print('fi:= fraccion i')\n",
    "print('------------------')\n",
    "while(n<=ndigitos):\n",
    "        print('Iteraccion :=' ,n)\n",
    "        ef=aux*2 \n",
    "        print('ef:=',ef)\n",
    "        ei=int(ef)\n",
    "        print('ei:=',ei)\n",
    "        fi=abs(ef) - abs(ei)\n",
    "        print('fi:=',fi)\n",
    "        if ei>= 1 :\n",
    "            aux=fi\n",
    "            digito=1\n",
    "        else:\n",
    "            aux=ef\n",
    "            digito=0        \n",
    "        NumeroBinario.append(digito)\n",
    "        print('Digito encontrado:=',digito)\n",
    "        print('NumeroBinario:= ',NumeroBinario)\n",
    "        print('------------------')\n",
    "        n=n+1\n",
    "        "
   ]
  },
  {
   "cell_type": "code",
   "execution_count": 87,
   "id": "2596792f",
   "metadata": {},
   "outputs": [
    {
     "name": "stdout",
     "output_type": "stream",
     "text": [
      "[1, 0, 0, 1, 0, 1]\n"
     ]
    },
    {
     "data": {
      "text/plain": [
       "1"
      ]
     },
     "execution_count": 87,
     "metadata": {},
     "output_type": "execute_result"
    }
   ],
   "source": [
    "numero_binario = '100101'\n",
    "NumeroBinario = [] # la lista para guardar numero\n",
    "for digito_string in numero_binario:\n",
    "    digito = int(digito_string)\n",
    "    NumeroBinario.append(digito)\n",
    "print(NumeroBinario)    \n",
    "BinNumer=NumeroBinario[::-1]\n",
    "BinNumer[2]\n"
   ]
  }
 ],
 "metadata": {
  "kernelspec": {
   "display_name": "Python 3 (ipykernel)",
   "language": "python",
   "name": "python3"
  },
  "language_info": {
   "codemirror_mode": {
    "name": "ipython",
    "version": 3
   },
   "file_extension": ".py",
   "mimetype": "text/x-python",
   "name": "python",
   "nbconvert_exporter": "python",
   "pygments_lexer": "ipython3",
   "version": "3.9.7"
  }
 },
 "nbformat": 4,
 "nbformat_minor": 5
}
